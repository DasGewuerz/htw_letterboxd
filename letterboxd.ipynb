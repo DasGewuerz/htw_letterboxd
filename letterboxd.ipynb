{
 "cells": [
  {
   "cell_type": "markdown",
   "metadata": {},
   "source": [
    "## Letterboxd Data exploration\n",
    "\n",
    "The Data used in this project can be found here: https://www.kaggle.com/datasets/gsimonx37/letterboxd\n",
    "It will be placed in the directory \"letterboxd\", that is added to the .gitignore because of file size limitations in GitHub."
   ]
  },
  {
   "cell_type": "code",
   "execution_count": null,
   "metadata": {},
   "outputs": [],
   "source": [
    "print(\"test\")"
   ]
  }
 ],
 "metadata": {
  "language_info": {
   "name": "python"
  }
 },
 "nbformat": 4,
 "nbformat_minor": 2
}
