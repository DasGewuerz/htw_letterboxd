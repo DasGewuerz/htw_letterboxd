{
 "cells": [
  {
   "cell_type": "markdown",
   "metadata": {},
   "source": [
    "## Letterboxd Data exploration\n",
    "\n",
    "The Data used in this project can be found here: https://www.kaggle.com/datasets/gsimonx37/letterboxd\n",
    "It will be placed in the directory \"letterboxd\", that is added to the .gitignore because of file size limitations in GitHub."
   ]
  },
  {
   "cell_type": "code",
   "execution_count": 1,
   "metadata": {},
   "outputs": [],
   "source": [
    "#import dependencies\n",
    "import pandas as pd\n",
    "import numpy as np\n",
    "import matplotlib.pyplot as plt\n",
    "import seaborn as sns\n"
   ]
  },
  {
   "cell_type": "code",
   "execution_count": 4,
   "metadata": {},
   "outputs": [],
   "source": [
    "#load data\n",
    "actors = pd.read_csv(\"letterboxd/actors.csv\")\n",
    "countries = pd.read_csv(\"letterboxd/countries.csv\")\n",
    "crew = pd.read_csv(\"letterboxd/crew.csv\")\n",
    "genres = pd.read_csv(\"letterboxd/genres.csv\")\n",
    "movies = pd.read_csv(\"letterboxd/movies.csv\")\n",
    "languages = pd.read_csv(\"letterboxd/languages.csv\")\n",
    "releases = pd.read_csv(\"letterboxd/releases.csv\")\n",
    "studios = pd.read_csv(\"letterboxd/studios.csv\")\n",
    "themes = pd.read_csv(\"letterboxd/themes.csv\")\n"
   ]
  },
  {
   "cell_type": "markdown",
   "metadata": {},
   "source": [
    "# Actors \n",
    "Contains name of actor/actress and the corresponsing movie in the form of \"id\""
   ]
  },
  {
   "cell_type": "code",
   "execution_count": 11,
   "metadata": {},
   "outputs": [
    {
     "name": "stdout",
     "output_type": "stream",
     "text": [
      "        id                name\n",
      "0  1000001       Margot Robbie\n",
      "1  1000001        Lewis Easter\n",
      "2  1000001  Onyemachi Ejimofor\n",
      "3  1000001     Cameron Everitt\n",
      "4  1000001   Luke Field-Wright\n",
      "id       int64\n",
      "name    object\n",
      "dtype: object\n"
     ]
    }
   ],
   "source": [
    "#check data\n",
    "print(actors.head())\n",
    "\n",
    "#check datatypes\n",
    "print(actors.dtypes)"
   ]
  },
  {
   "cell_type": "markdown",
   "metadata": {},
   "source": [
    "# Countries\n",
    "Contains country and the corresponsing movie in the form of \"id\""
   ]
  },
  {
   "cell_type": "code",
   "execution_count": 12,
   "metadata": {},
   "outputs": [
    {
     "name": "stdout",
     "output_type": "stream",
     "text": [
      "        id      country\n",
      "0  1000001           UK\n",
      "1  1000001          USA\n",
      "2  1000002  South Korea\n",
      "3  1000003          USA\n",
      "4  1000004      Germany\n",
      "id          int64\n",
      "country    object\n",
      "dtype: object\n"
     ]
    }
   ],
   "source": [
    "#check data\n",
    "print(countries.head())\n",
    "\n",
    "#check datatypes\n",
    "print(countries.dtypes)"
   ]
  }
 ],
 "metadata": {
  "kernelspec": {
   "display_name": "Python 3",
   "language": "python",
   "name": "python3"
  },
  "language_info": {
   "codemirror_mode": {
    "name": "ipython",
    "version": 3
   },
   "file_extension": ".py",
   "mimetype": "text/x-python",
   "name": "python",
   "nbconvert_exporter": "python",
   "pygments_lexer": "ipython3",
   "version": "3.9.13"
  }
 },
 "nbformat": 4,
 "nbformat_minor": 2
}
